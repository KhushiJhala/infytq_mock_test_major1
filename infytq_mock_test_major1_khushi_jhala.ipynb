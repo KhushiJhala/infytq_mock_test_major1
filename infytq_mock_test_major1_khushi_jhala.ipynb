{
 "cells": [
  {
   "cell_type": "markdown",
   "metadata": {},
   "source": [
    "# Khushi_jhala\n",
    "#19EJDAI019"
   ]
  },
  {
   "cell_type": "markdown",
   "metadata": {},
   "source": [
    "# cipher school training"
   ]
  },
  {
   "cell_type": "code",
   "execution_count": null,
   "metadata": {},
   "outputs": [],
   "source": []
  },
  {
   "cell_type": "markdown",
   "metadata": {},
   "source": [
    "# Q1"
   ]
  },
  {
   "cell_type": "code",
   "execution_count": 22,
   "metadata": {},
   "outputs": [
    {
     "name": "stdout",
     "output_type": "stream",
     "text": [
      "[0, 1]\n",
      "[1, 2]\n",
      "[0, 1]\n"
     ]
    }
   ],
   "source": [
    "def twoSum(nums, target):\n",
    "        lst=[]\n",
    "        for x in range(len(nums)):\n",
    "            for y in range(x+1,len(nums)):\n",
    "                #print(nums[y],\"H\")\n",
    "                if nums[x]+nums[y]==target:\n",
    "                    #print(x,y,nums[y])\n",
    "                    lst.extend([x,y])\n",
    "        lst=list(set(lst))\n",
    "        return lst\n",
    "\n",
    "print(twoSum([2,7,11,15],9))\n",
    "print(twoSum([3,2,4],6))\n",
    "print(twoSum([3,3],6))"
   ]
  },
  {
   "cell_type": "code",
   "execution_count": null,
   "metadata": {},
   "outputs": [],
   "source": []
  },
  {
   "cell_type": "markdown",
   "metadata": {},
   "source": [
    "# Q2"
   ]
  },
  {
   "cell_type": "code",
   "execution_count": 24,
   "metadata": {},
   "outputs": [
    {
     "name": "stdout",
     "output_type": "stream",
     "text": [
      "5\n",
      "harry\n",
      "37.21\n",
      "berry\n",
      "37.21\n",
      "tina\n",
      "37.2\n",
      "akriti\n",
      "41\n",
      "harsh\n",
      "39\n",
      "berry\n",
      "harry\n"
     ]
    }
   ],
   "source": [
    "N = int(input())\n",
    "\n",
    "students = []\n",
    "for i in range(2*N):\n",
    "    students.append(input().split())\n",
    "grades = {}\n",
    "for j in range(0, len(students), 2):\n",
    "    grades[students[j][0]] = float(students[j + 1][0])\n",
    "result = []\n",
    "num_to_match = sorted(set(grades.values()))[1]\n",
    "for pupil in grades.keys():\n",
    "    if grades[pupil] == num_to_match:\n",
    "        result.append(pupil)\n",
    "for k in sorted(result):\n",
    "    print( k)"
   ]
  },
  {
   "cell_type": "code",
   "execution_count": null,
   "metadata": {},
   "outputs": [],
   "source": []
  },
  {
   "cell_type": "code",
   "execution_count": null,
   "metadata": {},
   "outputs": [],
   "source": []
  },
  {
   "cell_type": "code",
   "execution_count": null,
   "metadata": {},
   "outputs": [],
   "source": []
  }
 ],
 "metadata": {
  "kernelspec": {
   "display_name": "Python 3",
   "language": "python",
   "name": "python3"
  },
  "language_info": {
   "codemirror_mode": {
    "name": "ipython",
    "version": 3
   },
   "file_extension": ".py",
   "mimetype": "text/x-python",
   "name": "python",
   "nbconvert_exporter": "python",
   "pygments_lexer": "ipython3",
   "version": "3.7.6"
  }
 },
 "nbformat": 4,
 "nbformat_minor": 4
}
